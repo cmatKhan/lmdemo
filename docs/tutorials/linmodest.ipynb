{
 "cells": [
  {
   "cell_type": "code",
   "execution_count": 2,
   "metadata": {},
   "outputs": [
    {
     "name": "stdout",
     "output_type": "stream",
     "text": [
      "{'coef': array([1., 1.]), 'vcov': array([[ 9.86076132e-32, -9.86076132e-32],\n",
      "       [-9.86076132e-32,  1.47911420e-31]]), 'sigma': 4.440892098500626e-16, 'df': 2}\n"
     ]
    }
   ],
   "source": [
    "from lmdemo import linmodest\n",
    "import numpy as np\n",
    "\n",
    "A = np.array([[0, 1], [1, 1], [1, 1], [2, 1]])\n",
    "b = np.array([1, 2, 2, 3])\n",
    "\n",
    "res = linmodest(A,b)\n",
    "\n",
    "print(str(res))"
   ]
  }
 ],
 "metadata": {
  "kernelspec": {
   "display_name": "Python 3.9.14 64-bit",
   "language": "python",
   "name": "python3"
  },
  "language_info": {
   "codemirror_mode": {
    "name": "ipython",
    "version": 3
   },
   "file_extension": ".py",
   "mimetype": "text/x-python",
   "name": "python",
   "nbconvert_exporter": "python",
   "pygments_lexer": "ipython3",
   "version": "3.9.14"
  },
  "orig_nbformat": 4,
  "vscode": {
   "interpreter": {
    "hash": "e7370f93d1d0cde622a1f8e1c04877d8463912d04d973331ad4851f04de6915a"
   }
  }
 },
 "nbformat": 4,
 "nbformat_minor": 2
}

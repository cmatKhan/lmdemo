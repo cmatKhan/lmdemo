{
 "cells": [
  {
   "cell_type": "code",
   "execution_count": 1,
   "metadata": {},
   "outputs": [
    {
     "name": "stdout",
     "output_type": "stream",
     "text": [
      "{'coef': array([1., 1.]), 'vcov': array([[ 9.86076132e-32, -9.86076132e-32],\n",
      "       [-9.86076132e-32,  1.47911420e-31]]), 'sigma': 4.440892098500626e-16, 'df': 2}\n"
     ]
    }
   ],
   "source": [
    "from lmdemo import linmodest\n",
    "import numpy as np\n",
    "\n",
    "A = np.array([[0, 1], [1, 1], [1, 1], [2, 1]])\n",
    "b = np.array([1, 2, 2, 3])\n",
    "\n",
    "res = linmodest(A,b)\n",
    "\n",
    "print(str(res))"
   ]
  }
 ],
 "metadata": {
  "kernelspec": {
   "display_name": "Python 3.9.14 ('.venv': poetry)",
   "language": "python",
   "name": "python3"
  },
  "language_info": {
   "codemirror_mode": {
    "name": "ipython",
    "version": 3
   },
   "file_extension": ".py",
   "mimetype": "text/x-python",
   "name": "python",
   "nbconvert_exporter": "python",
   "pygments_lexer": "ipython3",
   "version": "3.9.14"
  },
  "orig_nbformat": 4,
  "vscode": {
   "interpreter": {
    "hash": "526a051256eeb3a74af1fb9f7a548c9f4110edfcb405e01e9b10a5f4376a00a6"
   }
  }
 },
 "nbformat": 4,
 "nbformat_minor": 2
}
